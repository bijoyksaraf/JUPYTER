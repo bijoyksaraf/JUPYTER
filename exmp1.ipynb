{
 "cells": [
  {
   "cell_type": "code",
   "execution_count": 13,
   "metadata": {},
   "outputs": [
    {
     "data": {
      "text/html": [
       "<div><style>\n",
       ".dataframe > thead > tr > th,\n",
       ".dataframe > tbody > tr > td {\n",
       "  text-align: right;\n",
       "}\n",
       "</style>\n",
       "<small>shape: (5, 5)</small><table border=\"1\" class=\"dataframe\"><thead><tr><th>A</th><th>fruits</th><th>B</th><th>cars</th><th>optional</th></tr><tr><td>i64</td><td>str</td><td>i64</td><td>str</td><td>i64</td></tr></thead><tbody><tr><td>1</td><td>&quot;banana&quot;</td><td>5</td><td>&quot;beetle&quot;</td><td>28</td></tr><tr><td>2</td><td>&quot;banana&quot;</td><td>4</td><td>&quot;audi&quot;</td><td>300</td></tr><tr><td>3</td><td>&quot;apple&quot;</td><td>3</td><td>&quot;beetle&quot;</td><td>null</td></tr><tr><td>4</td><td>&quot;apple&quot;</td><td>2</td><td>&quot;beetle&quot;</td><td>2</td></tr><tr><td>5</td><td>&quot;banana&quot;</td><td>1</td><td>&quot;beetle&quot;</td><td>-30</td></tr></tbody></table></div>"
      ],
      "text/plain": [
       "shape: (5, 5)\n",
       "┌─────┬────────┬─────┬────────┬──────────┐\n",
       "│ A   ┆ fruits ┆ B   ┆ cars   ┆ optional │\n",
       "│ --- ┆ ---    ┆ --- ┆ ---    ┆ ---      │\n",
       "│ i64 ┆ str    ┆ i64 ┆ str    ┆ i64      │\n",
       "╞═════╪════════╪═════╪════════╪══════════╡\n",
       "│ 1   ┆ banana ┆ 5   ┆ beetle ┆ 28       │\n",
       "│ 2   ┆ banana ┆ 4   ┆ audi   ┆ 300      │\n",
       "│ 3   ┆ apple  ┆ 3   ┆ beetle ┆ null     │\n",
       "│ 4   ┆ apple  ┆ 2   ┆ beetle ┆ 2        │\n",
       "│ 5   ┆ banana ┆ 1   ┆ beetle ┆ -30      │\n",
       "└─────┴────────┴─────┴────────┴──────────┘"
      ]
     },
     "execution_count": 13,
     "metadata": {},
     "output_type": "execute_result"
    }
   ],
   "source": [
    "\n",
    "import polars as pl\n",
    "df = pl.DataFrame(\n",
    "    {\n",
    "        \"A\": [1, 2, 3, 4, 5],\n",
    "        \"fruits\": [\"banana\", \"banana\", \"apple\", \"apple\", \"banana\"],\n",
    "        \"B\": [5, 4, 3, 2, 1],\n",
    "        \"cars\": [\"beetle\", \"audi\", \"beetle\", \"beetle\", \"beetle\"],\n",
    "        \"optional\": [28, 300, None, 2, -30],\n",
    "    }\n",
    ")\n",
    "df"
   ]
  },
  {
   "cell_type": "code",
   "execution_count": 14,
   "metadata": {},
   "outputs": [
    {
     "data": {
      "text/html": [
       "<div><style>\n",
       ".dataframe > thead > tr > th,\n",
       ".dataframe > tbody > tr > td {\n",
       "  text-align: right;\n",
       "}\n",
       "</style>\n",
       "<small>shape: (5, 4)</small><table border=\"1\" class=\"dataframe\"><thead><tr><th>A</th><th>B</th><th>literal</th><th>fruits</th></tr><tr><td>i64</td><td>i64</td><td>str</td><td>str</td></tr></thead><tbody><tr><td>1</td><td>5</td><td>&quot;B&quot;</td><td>&quot;banana&quot;</td></tr><tr><td>2</td><td>4</td><td>&quot;B&quot;</td><td>&quot;banana&quot;</td></tr><tr><td>3</td><td>3</td><td>&quot;B&quot;</td><td>&quot;apple&quot;</td></tr><tr><td>4</td><td>2</td><td>&quot;B&quot;</td><td>&quot;apple&quot;</td></tr><tr><td>5</td><td>1</td><td>&quot;B&quot;</td><td>&quot;banana&quot;</td></tr></tbody></table></div>"
      ],
      "text/plain": [
       "shape: (5, 4)\n",
       "┌─────┬─────┬─────────┬────────┐\n",
       "│ A   ┆ B   ┆ literal ┆ fruits │\n",
       "│ --- ┆ --- ┆ ---     ┆ ---    │\n",
       "│ i64 ┆ i64 ┆ str     ┆ str    │\n",
       "╞═════╪═════╪═════════╪════════╡\n",
       "│ 1   ┆ 5   ┆ B       ┆ banana │\n",
       "│ 2   ┆ 4   ┆ B       ┆ banana │\n",
       "│ 3   ┆ 3   ┆ B       ┆ apple  │\n",
       "│ 4   ┆ 2   ┆ B       ┆ apple  │\n",
       "│ 5   ┆ 1   ┆ B       ┆ banana │\n",
       "└─────┴─────┴─────────┴────────┘"
      ]
     },
     "execution_count": 14,
     "metadata": {},
     "output_type": "execute_result"
    }
   ],
   "source": [
    "# We can select by name\n",
    "\n",
    "(df.select([\n",
    "    pl.col(\"A\"),\n",
    "    \"B\",      # the col part is inferred\n",
    "    pl.lit(\"B\"),  # we must tell polars we mean the literal \"B\"\n",
    "    pl.col(\"fruits\"),\n",
    "]))\n"
   ]
  },
  {
   "cell_type": "code",
   "execution_count": 15,
   "metadata": {},
   "outputs": [
    {
     "data": {
      "text/html": [
       "<div><style>\n",
       ".dataframe > thead > tr > th,\n",
       ".dataframe > tbody > tr > td {\n",
       "  text-align: right;\n",
       "}\n",
       "</style>\n",
       "<small>shape: (1, 2)</small><table border=\"1\" class=\"dataframe\"><thead><tr><th>A</th><th>B</th></tr><tr><td>i64</td><td>i64</td></tr></thead><tbody><tr><td>15</td><td>15</td></tr></tbody></table></div>"
      ],
      "text/plain": [
       "shape: (1, 2)\n",
       "┌─────┬─────┐\n",
       "│ A   ┆ B   │\n",
       "│ --- ┆ --- │\n",
       "│ i64 ┆ i64 │\n",
       "╞═════╪═════╡\n",
       "│ 15  ┆ 15  │\n",
       "└─────┴─────┘"
      ]
     },
     "execution_count": 15,
     "metadata": {},
     "output_type": "execute_result"
    }
   ],
   "source": [
    "# you can select columns with a regex if it starts with '^' and ends with '$'\n",
    "\n",
    "(df.select([\n",
    "    pl.col(\"^A|B$\").sum()\n",
    "]))\n"
   ]
  },
  {
   "cell_type": "code",
   "execution_count": 16,
   "metadata": {},
   "outputs": [
    {
     "data": {
      "text/html": [
       "<div><style>\n",
       ".dataframe > thead > tr > th,\n",
       ".dataframe > tbody > tr > td {\n",
       "  text-align: right;\n",
       "}\n",
       "</style>\n",
       "<small>shape: (5, 10)</small><table border=\"1\" class=\"dataframe\"><thead><tr><th>A</th><th>fruits</th><th>B</th><th>cars</th><th>optional</th><th>A_reverse</th><th>fruits_reverse</th><th>B_reverse</th><th>cars_reverse</th><th>optional_reverse</th></tr><tr><td>i64</td><td>str</td><td>i64</td><td>str</td><td>i64</td><td>i64</td><td>str</td><td>i64</td><td>str</td><td>i64</td></tr></thead><tbody><tr><td>1</td><td>&quot;banana&quot;</td><td>5</td><td>&quot;beetle&quot;</td><td>28</td><td>5</td><td>&quot;banana&quot;</td><td>1</td><td>&quot;beetle&quot;</td><td>-30</td></tr><tr><td>2</td><td>&quot;banana&quot;</td><td>4</td><td>&quot;audi&quot;</td><td>300</td><td>4</td><td>&quot;apple&quot;</td><td>2</td><td>&quot;beetle&quot;</td><td>2</td></tr><tr><td>3</td><td>&quot;apple&quot;</td><td>3</td><td>&quot;beetle&quot;</td><td>null</td><td>3</td><td>&quot;apple&quot;</td><td>3</td><td>&quot;beetle&quot;</td><td>null</td></tr><tr><td>4</td><td>&quot;apple&quot;</td><td>2</td><td>&quot;beetle&quot;</td><td>2</td><td>2</td><td>&quot;banana&quot;</td><td>4</td><td>&quot;audi&quot;</td><td>300</td></tr><tr><td>5</td><td>&quot;banana&quot;</td><td>1</td><td>&quot;beetle&quot;</td><td>-30</td><td>1</td><td>&quot;banana&quot;</td><td>5</td><td>&quot;beetle&quot;</td><td>28</td></tr></tbody></table></div>"
      ],
      "text/plain": [
       "shape: (5, 10)\n",
       "┌─────┬────────┬─────┬────────┬───┬────────────────┬───────────┬──────────────┬──────────────────┐\n",
       "│ A   ┆ fruits ┆ B   ┆ cars   ┆ … ┆ fruits_reverse ┆ B_reverse ┆ cars_reverse ┆ optional_reverse │\n",
       "│ --- ┆ ---    ┆ --- ┆ ---    ┆   ┆ ---            ┆ ---       ┆ ---          ┆ ---              │\n",
       "│ i64 ┆ str    ┆ i64 ┆ str    ┆   ┆ str            ┆ i64       ┆ str          ┆ i64              │\n",
       "╞═════╪════════╪═════╪════════╪═══╪════════════════╪═══════════╪══════════════╪══════════════════╡\n",
       "│ 1   ┆ banana ┆ 5   ┆ beetle ┆ … ┆ banana         ┆ 1         ┆ beetle       ┆ -30              │\n",
       "│ 2   ┆ banana ┆ 4   ┆ audi   ┆ … ┆ apple          ┆ 2         ┆ beetle       ┆ 2                │\n",
       "│ 3   ┆ apple  ┆ 3   ┆ beetle ┆ … ┆ apple          ┆ 3         ┆ beetle       ┆ null             │\n",
       "│ 4   ┆ apple  ┆ 2   ┆ beetle ┆ … ┆ banana         ┆ 4         ┆ audi         ┆ 300              │\n",
       "│ 5   ┆ banana ┆ 1   ┆ beetle ┆ … ┆ banana         ┆ 5         ┆ beetle       ┆ 28               │\n",
       "└─────┴────────┴─────┴────────┴───┴────────────────┴───────────┴──────────────┴──────────────────┘"
      ]
     },
     "execution_count": 16,
     "metadata": {},
     "output_type": "execute_result"
    }
   ],
   "source": [
    "# We select everything in normal order\n",
    "# Then we select everything in reversed order\n",
    "\n",
    "(df.select([\n",
    "    pl.all(),\n",
    "    pl.all().reverse().suffix(\"_reverse\")\n",
    "]))\n"
   ]
  },
  {
   "cell_type": "code",
   "execution_count": 17,
   "metadata": {},
   "outputs": [
    {
     "data": {
      "text/html": [
       "<div><style>\n",
       ".dataframe > thead > tr > th,\n",
       ".dataframe > tbody > tr > td {\n",
       "  text-align: right;\n",
       "}\n",
       "</style>\n",
       "<small>shape: (5, 1)</small><table border=\"1\" class=\"dataframe\"><thead><tr><th>fruits</th></tr><tr><td>bool</td></tr></thead><tbody><tr><td>true</td></tr><tr><td>true</td></tr><tr><td>false</td></tr><tr><td>false</td></tr><tr><td>true</td></tr></tbody></table></div>"
      ],
      "text/plain": [
       "shape: (5, 1)\n",
       "┌────────┐\n",
       "│ fruits │\n",
       "│ ---    │\n",
       "│ bool   │\n",
       "╞════════╡\n",
       "│ true   │\n",
       "│ true   │\n",
       "│ false  │\n",
       "│ false  │\n",
       "│ true   │\n",
       "└────────┘"
      ]
     },
     "execution_count": 17,
     "metadata": {},
     "output_type": "execute_result"
    }
   ],
   "source": [
    "# there are `str` and `dt` namespaces for specialized functions\n",
    "\n",
    "predicate = pl.col(\"fruits\").str.contains(\"^b.*\")\n",
    "\n",
    "(df.select([\n",
    "    predicate\n",
    "]))\n"
   ]
  },
  {
   "cell_type": "code",
   "execution_count": 18,
   "metadata": {},
   "outputs": [
    {
     "data": {
      "text/html": [
       "<div><style>\n",
       ".dataframe > thead > tr > th,\n",
       ".dataframe > tbody > tr > td {\n",
       "  text-align: right;\n",
       "}\n",
       "</style>\n",
       "<small>shape: (1, 2)</small><table border=\"1\" class=\"dataframe\"><thead><tr><th>A</th><th>some_compute()</th></tr><tr><td>i64</td><td>i64</td></tr></thead><tbody><tr><td>8</td><td>165</td></tr></tbody></table></div>"
      ],
      "text/plain": [
       "shape: (1, 2)\n",
       "┌─────┬────────────────┐\n",
       "│ A   ┆ some_compute() │\n",
       "│ --- ┆ ---            │\n",
       "│ i64 ┆ i64            │\n",
       "╞═════╪════════════════╡\n",
       "│ 8   ┆ 165            │\n",
       "└─────┴────────────────┘"
      ]
     },
     "execution_count": 18,
     "metadata": {},
     "output_type": "execute_result"
    }
   ],
   "source": [
    "# predicate expressions can be used to filter\n",
    "\n",
    "(df.select([\n",
    "    pl.col(\"A\").filter(pl.col(\"fruits\").str.contains(\"^b.*\")).sum(),\n",
    "    (pl.col(\"B\").filter(pl.col(\"cars\").str.contains(\"^b.*\")).sum()\n",
    "     * pl.col(\"B\").sum()).alias(\"some_compute()\"),\n",
    "]))\n"
   ]
  }
 ],
 "metadata": {
  "kernelspec": {
   "display_name": "Python 3",
   "language": "python",
   "name": "python3"
  },
  "language_info": {
   "codemirror_mode": {
    "name": "ipython",
    "version": 3
   },
   "file_extension": ".py",
   "mimetype": "text/x-python",
   "name": "python",
   "nbconvert_exporter": "python",
   "pygments_lexer": "ipython3",
   "version": "3.11.0"
  },
  "orig_nbformat": 4
 },
 "nbformat": 4,
 "nbformat_minor": 2
}
